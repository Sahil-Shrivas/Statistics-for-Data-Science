{
 "cells": [
  {
   "cell_type": "code",
   "execution_count": 1,
   "id": "89ce0f63-f371-4c7d-8c4b-943b055affb5",
   "metadata": {},
   "outputs": [
    {
     "data": {
      "text/plain": [
       "array([  2,   3,   4,   6,   7,   8,   9,  12,  13,  16,  17,  23,  25,\n",
       "        27,  34,  37, 201])"
      ]
     },
     "execution_count": 1,
     "metadata": {},
     "output_type": "execute_result"
    }
   ],
   "source": [
    "import numpy as np\n",
    "arr = np.array([2,3,4,6,7,8,9,12,13,16,17,23,25,27,34,37,201])\n",
    "arr"
   ]
  },
  {
   "cell_type": "code",
   "execution_count": 7,
   "id": "2121cb24-17eb-48a6-a5d9-2d99372a3fb3",
   "metadata": {},
   "outputs": [],
   "source": [
    "Q1 = np.percentile(arr,25)\n",
    "Q3 = np.percentile(arr,75)"
   ]
  },
  {
   "cell_type": "code",
   "execution_count": 8,
   "id": "a165046e-704f-4234-bbfe-19d81e6179ab",
   "metadata": {},
   "outputs": [
    {
     "data": {
      "text/plain": [
       "np.float64(18.0)"
      ]
     },
     "execution_count": 8,
     "metadata": {},
     "output_type": "execute_result"
    }
   ],
   "source": [
    "IQR = Q3 - Q1\n",
    "IQR"
   ]
  },
  {
   "cell_type": "code",
   "execution_count": 11,
   "id": "893dae81-45b6-40b6-b7d3-b1dcaa1c411d",
   "metadata": {},
   "outputs": [
    {
     "data": {
      "text/plain": [
       "np.float64(52.0)"
      ]
     },
     "execution_count": 11,
     "metadata": {},
     "output_type": "execute_result"
    }
   ],
   "source": [
    "UF = Q3 + (1.5*(IQR))\n",
    "UF"
   ]
  },
  {
   "cell_type": "code",
   "execution_count": 12,
   "id": "7a661925-e27d-4875-a457-7702e37f30a4",
   "metadata": {},
   "outputs": [
    {
     "data": {
      "text/plain": [
       "np.float64(-20.0)"
      ]
     },
     "execution_count": 12,
     "metadata": {},
     "output_type": "execute_result"
    }
   ],
   "source": [
    "LF = Q1 - (1.5*(IQR))\n",
    "LF"
   ]
  },
  {
   "cell_type": "code",
   "execution_count": 13,
   "id": "fa1c4da0-6f85-4089-aea6-e9500547496d",
   "metadata": {},
   "outputs": [],
   "source": [
    "l = []\n",
    "for i in arr:\n",
    "    if i >= LF and i <= UF:\n",
    "        l.append(i)\n",
    "arr2 = np.array(l)"
   ]
  },
  {
   "cell_type": "code",
   "execution_count": 14,
   "id": "b22625b6-1486-48dd-9d5d-6d31e6f59900",
   "metadata": {},
   "outputs": [
    {
     "name": "stdout",
     "output_type": "stream",
     "text": [
      "[  2   3   4   6   7   8   9  12  13  16  17  23  25  27  34  37 201]\n",
      "[ 2  3  4  6  7  8  9 12 13 16 17 23 25 27 34 37]\n"
     ]
    }
   ],
   "source": [
    "print(arr)\n",
    "print(arr2)"
   ]
  },
  {
   "cell_type": "code",
   "execution_count": 15,
   "id": "52f4a067-f605-41bf-bd79-fdb61e35c829",
   "metadata": {},
   "outputs": [
    {
     "data": {
      "text/plain": [
       "<Axes: >"
      ]
     },
     "execution_count": 15,
     "metadata": {},
     "output_type": "execute_result"
    },
    {
     "data": {
      "image/png": "[encoded data removed]",
      "text/plain": [
       "<Figure size 640x480 with 1 Axes>"
      ]
     },
     "metadata": {},
     "output_type": "display_data"
    }
   ],
   "source": [
    "import seaborn as sns \n",
    "\n",
    "sns.boxplot(x = arr2)"
   ]
  },
  {
   "cell_type": "code",
   "execution_count": null,
   "id": "73c7e862-1eb8-42c0-9737-3e3d6e366ea3",
   "metadata": {},
   "outputs": [],
   "source": []
  },
  {
   "cell_type": "code",
   "execution_count": null,
   "id": "391b3642-e3e7-4ffa-9d23-168663420bd9",
   "metadata": {},
   "outputs": [],
   "source": []
  }
 ],
 "metadata": {
  "kernelspec": {
   "display_name": "Python 3 (ipykernel)",
   "language": "python",
   "name": "python3"
  },
  "language_info": {
   "codemirror_mode": {
    "name": "ipython",
    "version": 3
   },
   "file_extension": ".py",
   "mimetype": "text/x-python",
   "name": "python",
   "nbconvert_exporter": "python",
   "pygments_lexer": "ipython3",
   "version": "3.13.5"
  }
 },
 "nbformat": 4,
 "nbformat_minor": 5
}
